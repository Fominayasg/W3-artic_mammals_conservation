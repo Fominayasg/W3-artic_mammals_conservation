{
 "cells": [
  {
   "cell_type": "markdown",
   "id": "cleared-absolute",
   "metadata": {},
   "source": [
    "In order to enrich de dataset I got from OBIS webpage, I´m going to use the IUCN API to collect data about the historical registers of the threat categories."
   ]
  },
  {
   "cell_type": "code",
   "execution_count": 1,
   "id": "entitled-divorce",
   "metadata": {},
   "outputs": [],
   "source": [
    "import requests\n",
    "import pandas as pd"
   ]
  },
  {
   "cell_type": "code",
   "execution_count": 2,
   "id": "prompt-rugby",
   "metadata": {},
   "outputs": [],
   "source": [
    "import sys\n",
    "sys.path.append(\"../\")\n",
    "from src.api_functions import *"
   ]
  },
  {
   "cell_type": "code",
   "execution_count": 3,
   "id": "cutting-northwest",
   "metadata": {},
   "outputs": [],
   "source": [
    "token = open (\"token.txt\").readlines()[0]\n",
    "token = token.strip()"
   ]
  },
  {
   "cell_type": "code",
   "execution_count": 21,
   "id": "close-clerk",
   "metadata": {},
   "outputs": [],
   "source": [
    "artic_mammals = pd.read_csv(\"data/artic_mammals_obis.csv\")"
   ]
  },
  {
   "cell_type": "code",
   "execution_count": 23,
   "id": "formed-federal",
   "metadata": {},
   "outputs": [
    {
     "name": "stdout",
     "output_type": "stream",
     "text": [
      "['Ursus maritimus', 'Odobenus rosmarus', 'Eschrichtius robustus', 'Enhydra lutris', 'Hyperoodon ampullatus', 'Physeter macrocephalus', 'Balaena mysticetus', 'Phocoena phocoena', 'Balaenoptera physalus', 'Phoca vitulina', 'Delphinapterus leucas', 'Callorhinus ursinus', 'Eumetopias jubatus', 'Megaptera novaeangliae', 'Balaenoptera borealis', 'Globicephala melas', 'Balaenoptera acutorostrata', 'Monodon monoceros', 'Balaenoptera musculus', 'Orcinus orca', 'Pusa hispida', 'Phocoenoides dalli']\n"
     ]
    }
   ],
   "source": [
    "artic_mammals_species = list (artic_mammals['species'].unique())\n",
    "print(artic_mammals_species)"
   ]
  },
  {
   "cell_type": "markdown",
   "id": "parallel-interval",
   "metadata": {},
   "source": [
    "### Just to feed curiosity . . . \n",
    "'Ursus maritimus' = Oso Polar\n",
    "<br>\n",
    "'Odobenus rosmarus' = Morsa\n",
    "<br>\n",
    "'Eschrichtius robustus' = Ballena gris\n",
    "<br>\n",
    "'Enhydra lutris' = Nutria marina\n",
    "<br>\n",
    "'Hyperoodon ampullatus' = Zifio\n",
    "<br>\n",
    "'Physeter macrocephalus'= Cachalote\n",
    "<br>\n",
    "'Balaena mysticetus' = Ballena Boreal\n",
    "<br>\n",
    "'Phocoena phocoena'= Marsopa común\n",
    "<br>\n",
    "'Balaenoptera physalus' = Rorcual común\n",
    "<br>\n",
    "'Phoca vitulina'= Foca común\n",
    "<br>\n",
    "'Delphinapterus leucas'= Delfín Beluga\n",
    "<br>\n",
    "'Callorhinus ursinus'= Oso marino ártico\n",
    "<br>\n",
    "'Eumetopias jubatus'= León marino de Steller\n",
    "<br>\n",
    "'Megaptera novaeangliae' = Yubarta (Ballena jorobada)\n",
    "<br>\n",
    "'Balaenoptera borealis' = Rorcual norteño\n",
    "<br>\n",
    "'Globicephala melas' = Calderón común\n",
    "<br>\n",
    "'Balaenoptera acutorostrata' = Rorcual aliblanco\n",
    "<br>\n",
    "'Monodon monoceros' = Narval\n",
    "<br>\n",
    "'Balaenoptera musculus' = Ballena azul\n",
    "<br>\n",
    "'Orcinus orca'= Orca\n",
    "<br>\n",
    "'Pusa hispida' = Foca ocelada\n",
    "<br>\n",
    "'Phocoenoides dalli' = Marsopa de Dall"
   ]
  },
  {
   "cell_type": "markdown",
   "id": "understood-crime",
   "metadata": {},
   "source": [
    "## Obtain a .csv file with the data of artic marine mammals IUCN historical registers"
   ]
  },
  {
   "cell_type": "code",
   "execution_count": 5,
   "id": "failing-visitor",
   "metadata": {},
   "outputs": [],
   "source": [
    "artic_mammals_uicn_hist ={}\n",
    "for sp in artic_mammals_species:\n",
    "    df = extract_sp_hist_record(sp,token)\n",
    "    artic_mammals_uicn_hist.setdefault(sp,df)\n",
    "    "
   ]
  },
  {
   "cell_type": "code",
   "execution_count": 10,
   "id": "numerical-asthma",
   "metadata": {},
   "outputs": [
    {
     "data": {
      "text/plain": [
       "dict_keys(['Ursus maritimus', 'Odobenus rosmarus', 'Eschrichtius robustus', 'Enhydra lutris', 'Hyperoodon ampullatus', 'Physeter macrocephalus', 'Balaena mysticetus', 'Phocoena phocoena', 'Balaenoptera physalus', 'Phoca vitulina', 'Delphinapterus leucas', 'Callorhinus ursinus', 'Eumetopias jubatus', 'Megaptera novaeangliae', 'Balaenoptera borealis', 'Globicephala melas', 'Balaenoptera acutorostrata', 'Monodon monoceros', 'Balaenoptera musculus', 'Orcinus orca', 'Pusa hispida', 'Phocoenoides dalli'])"
      ]
     },
     "execution_count": 10,
     "metadata": {},
     "output_type": "execute_result"
    }
   ],
   "source": [
    "artic_mammals_uicn_hist.keys()"
   ]
  },
  {
   "cell_type": "code",
   "execution_count": 11,
   "id": "discrete-tracy",
   "metadata": {},
   "outputs": [],
   "source": [
    "for sp,df in artic_mammals_uicn_hist.items():\n",
    "    df[\"species\"]= sp"
   ]
  },
  {
   "cell_type": "code",
   "execution_count": 15,
   "id": "opposite-masters",
   "metadata": {},
   "outputs": [],
   "source": [
    "artic_mammals_uicn_hist_df = pd.concat(artic_mammals_uicn_hist.values())"
   ]
  },
  {
   "cell_type": "code",
   "execution_count": 16,
   "id": "apparent-injection",
   "metadata": {},
   "outputs": [
    {
     "data": {
      "text/html": [
       "<div>\n",
       "<style scoped>\n",
       "    .dataframe tbody tr th:only-of-type {\n",
       "        vertical-align: middle;\n",
       "    }\n",
       "\n",
       "    .dataframe tbody tr th {\n",
       "        vertical-align: top;\n",
       "    }\n",
       "\n",
       "    .dataframe thead th {\n",
       "        text-align: right;\n",
       "    }\n",
       "</style>\n",
       "<table border=\"1\" class=\"dataframe\">\n",
       "  <thead>\n",
       "    <tr style=\"text-align: right;\">\n",
       "      <th></th>\n",
       "      <th>year</th>\n",
       "      <th>code</th>\n",
       "      <th>category</th>\n",
       "      <th>species</th>\n",
       "    </tr>\n",
       "  </thead>\n",
       "  <tbody>\n",
       "    <tr>\n",
       "      <th>0</th>\n",
       "      <td>2015</td>\n",
       "      <td>VU</td>\n",
       "      <td>Vulnerable</td>\n",
       "      <td>Ursus maritimus</td>\n",
       "    </tr>\n",
       "    <tr>\n",
       "      <th>1</th>\n",
       "      <td>2008</td>\n",
       "      <td>VU</td>\n",
       "      <td>Vulnerable</td>\n",
       "      <td>Ursus maritimus</td>\n",
       "    </tr>\n",
       "    <tr>\n",
       "      <th>2</th>\n",
       "      <td>2006</td>\n",
       "      <td>VU</td>\n",
       "      <td>Vulnerable</td>\n",
       "      <td>Ursus maritimus</td>\n",
       "    </tr>\n",
       "    <tr>\n",
       "      <th>3</th>\n",
       "      <td>1996</td>\n",
       "      <td>LR/cd</td>\n",
       "      <td>Lower Risk/conservation dependent</td>\n",
       "      <td>Ursus maritimus</td>\n",
       "    </tr>\n",
       "    <tr>\n",
       "      <th>4</th>\n",
       "      <td>1994</td>\n",
       "      <td>V</td>\n",
       "      <td>Vulnerable</td>\n",
       "      <td>Ursus maritimus</td>\n",
       "    </tr>\n",
       "    <tr>\n",
       "      <th>...</th>\n",
       "      <td>...</td>\n",
       "      <td>...</td>\n",
       "      <td>...</td>\n",
       "      <td>...</td>\n",
       "    </tr>\n",
       "    <tr>\n",
       "      <th>0</th>\n",
       "      <td>2018</td>\n",
       "      <td>LC</td>\n",
       "      <td>Least Concern</td>\n",
       "      <td>Phocoenoides dalli</td>\n",
       "    </tr>\n",
       "    <tr>\n",
       "      <th>1</th>\n",
       "      <td>2012</td>\n",
       "      <td>LC</td>\n",
       "      <td>Least Concern</td>\n",
       "      <td>Phocoenoides dalli</td>\n",
       "    </tr>\n",
       "    <tr>\n",
       "      <th>2</th>\n",
       "      <td>2008</td>\n",
       "      <td>LC</td>\n",
       "      <td>Least Concern</td>\n",
       "      <td>Phocoenoides dalli</td>\n",
       "    </tr>\n",
       "    <tr>\n",
       "      <th>3</th>\n",
       "      <td>1996</td>\n",
       "      <td>LR/cd</td>\n",
       "      <td>Lower Risk/conservation dependent</td>\n",
       "      <td>Phocoenoides dalli</td>\n",
       "    </tr>\n",
       "    <tr>\n",
       "      <th>4</th>\n",
       "      <td>1994</td>\n",
       "      <td>K</td>\n",
       "      <td>Insufficiently Known</td>\n",
       "      <td>Phocoenoides dalli</td>\n",
       "    </tr>\n",
       "  </tbody>\n",
       "</table>\n",
       "<p>120 rows × 4 columns</p>\n",
       "</div>"
      ],
      "text/plain": [
       "    year   code                           category             species\n",
       "0   2015     VU                         Vulnerable     Ursus maritimus\n",
       "1   2008     VU                         Vulnerable     Ursus maritimus\n",
       "2   2006     VU                         Vulnerable     Ursus maritimus\n",
       "3   1996  LR/cd  Lower Risk/conservation dependent     Ursus maritimus\n",
       "4   1994      V                         Vulnerable     Ursus maritimus\n",
       "..   ...    ...                                ...                 ...\n",
       "0   2018     LC                      Least Concern  Phocoenoides dalli\n",
       "1   2012     LC                      Least Concern  Phocoenoides dalli\n",
       "2   2008     LC                      Least Concern  Phocoenoides dalli\n",
       "3   1996  LR/cd  Lower Risk/conservation dependent  Phocoenoides dalli\n",
       "4   1994      K               Insufficiently Known  Phocoenoides dalli\n",
       "\n",
       "[120 rows x 4 columns]"
      ]
     },
     "execution_count": 16,
     "metadata": {},
     "output_type": "execute_result"
    }
   ],
   "source": [
    "artic_mammals_uicn_hist_df"
   ]
  },
  {
   "cell_type": "code",
   "execution_count": 20,
   "id": "attached-cloud",
   "metadata": {},
   "outputs": [],
   "source": [
    "artic_mammals_uicn_hist_df.to_csv(\"data/artic_mammals_uicn_history.csv\")"
   ]
  },
  {
   "cell_type": "code",
   "execution_count": null,
   "id": "appropriate-europe",
   "metadata": {},
   "outputs": [],
   "source": []
  }
 ],
 "metadata": {
  "kernelspec": {
   "display_name": "Python 3",
   "language": "python",
   "name": "python3"
  },
  "language_info": {
   "codemirror_mode": {
    "name": "ipython",
    "version": 3
   },
   "file_extension": ".py",
   "mimetype": "text/x-python",
   "name": "python",
   "nbconvert_exporter": "python",
   "pygments_lexer": "ipython3",
   "version": "3.8.5"
  },
  "toc": {
   "base_numbering": 1,
   "nav_menu": {},
   "number_sections": true,
   "sideBar": true,
   "skip_h1_title": false,
   "title_cell": "Table of Contents",
   "title_sidebar": "Contents",
   "toc_cell": false,
   "toc_position": {},
   "toc_section_display": true,
   "toc_window_display": false
  },
  "varInspector": {
   "cols": {
    "lenName": 16,
    "lenType": 16,
    "lenVar": 40
   },
   "kernels_config": {
    "python": {
     "delete_cmd_postfix": "",
     "delete_cmd_prefix": "del ",
     "library": "var_list.py",
     "varRefreshCmd": "print(var_dic_list())"
    },
    "r": {
     "delete_cmd_postfix": ") ",
     "delete_cmd_prefix": "rm(",
     "library": "var_list.r",
     "varRefreshCmd": "cat(var_dic_list()) "
    }
   },
   "types_to_exclude": [
    "module",
    "function",
    "builtin_function_or_method",
    "instance",
    "_Feature"
   ],
   "window_display": false
  }
 },
 "nbformat": 4,
 "nbformat_minor": 5
}
